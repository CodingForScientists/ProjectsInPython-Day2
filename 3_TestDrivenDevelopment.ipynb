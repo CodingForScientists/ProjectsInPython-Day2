{
 "cells": [
  {
   "cell_type": "markdown",
   "source": "# Test-Driven Development (TDD)\n\nCoding is an iterative process: we change our code every time we:\n  - need it to do more (feature-writing)\n  - discover it doesn't do what we thought (bug-fixing)\n  - need it to be easier to understand (refactoring for readability)\n  - need it to be easier to reuse, modify, extend (refactoring for maintainability)\n\nEach of these tasks takes time.  Ideally, we'd spend 100% of our time only writing new features, but when we try to work that way, the code steadily grows into something that has lots of bugs, is difficult to understand, and is difficult to reuse and further modify for new features.  Eventually, to be able to write new features, the coder ends up spending most of their time bug-fixing and refactoring.  Not fun!\n\nTest-driven development is a programming practice geared toward doing all of these activities routinely, checking for bugs and cleaning up as we go.  To do this, developers write automated tests at the same time as writing their functions or classes, checking that their code does what they think it does.  To ensure that they have tests in mind, the practice involves writing tests *first*, before writing the code that it tests.  To give developers a chance to be flexible and discover things along the way, the developer doesn't write a lot of tests all at once; instead, they write one test, then the code to pass it, then clean up the code, a process called the **Test-Driven Development Cycle**.\n\n![TDD Cycle](https://www.thinktocode.com/wp-content/uploads/2018/02/red-green-refactor.png)",
   "metadata": {
    "tags": [],
    "cell_id": "00000-89484db8-67bd-42bd-8e70-c89ceba1c918",
    "deepnote_cell_type": "markdown"
   }
  },
  {
   "cell_type": "markdown",
   "source": "## Writing Automated Tests",
   "metadata": {
    "tags": [],
    "cell_id": "00001-01568962-03a4-45fb-a729-0703b13c6d2c",
    "deepnote_cell_type": "markdown"
   }
  },
  {
   "cell_type": "markdown",
   "source": "### Using the Pytest Test Runner\n\nA **Test Runner** looks for automated tests in your code, runs each of them, and displays whether they \n  - passed (no error message found).  \n  - failed (an AssertionError was raised)\n  - errored (any other error was raised)\n  \n  **Pytest**'s test runner can detect a wide variety of automated test formats, so it's very popular no matter what kinds of tests are being written. ",
   "metadata": {
    "tags": [],
    "cell_id": "00001-8ae6baec-3b47-4c9d-b7c0-44eb7ed520d4",
    "deepnote_cell_type": "markdown"
   }
  },
  {
   "cell_type": "code",
   "metadata": {
    "tags": [],
    "cell_id": "00002-836d1c9c-35d9-4529-a14d-c4e753a2b666",
    "deepnote_to_be_reexecuted": false,
    "source_hash": "1d6ac787",
    "execution_start": 1637654215389,
    "execution_millis": 9,
    "deepnote_cell_type": "code"
   },
   "source": "import pytest \nimport ipytest  # used for running pytest in jupyter notebooks\nipytest.autoconfig()",
   "outputs": [],
   "execution_count": null
  },
  {
   "cell_type": "markdown",
   "source": "### Writing tests with Doctests\n\nDoctests are tests that are written into the docstring of the code, using the following format:\n\n**Exercises** \n\n  1. Fix the tests and function below so that everything passes and is correct.\n  2. Add another test to verify the function works as expected.",
   "metadata": {
    "tags": [],
    "cell_id": "00003-9bea1116-d3fb-499a-a5d4-9f49e95cab91",
    "deepnote_cell_type": "markdown"
   }
  },
  {
   "cell_type": "code",
   "metadata": {
    "tags": [],
    "cell_id": "00003-db6b6d48-151d-411b-a143-c93f00298679",
    "deepnote_to_be_reexecuted": false,
    "source_hash": "84d95144",
    "execution_start": 1637655076108,
    "execution_millis": 523,
    "deepnote_cell_type": "code"
   },
   "source": "%%ipytest -qq --doctest-modules\n\ndef mul(x, y):\n    \"\"\"\n    >>> mul(2, 2)\n    4\n\n    >>> mul(2, 3)\n    6\n\n    >>> mul(4, 5)\n    9\n    \"\"\"\n    return x + y",
   "outputs": [
    {
     "name": "stdout",
     "text": "\u001b[31mF\u001b[0m\u001b[31m                                                                                            [100%]\u001b[0m\n============================================= FAILURES =============================================\n\u001b[31m\u001b[1m______________________________________ [doctest] __main__.mul ______________________________________\u001b[0m\n002 \n003     >>> mul(2, 2)\n004     4\n005 \n006     >>> mul(2, 3)\nExpected:\n    6\nGot:\n    5\n\n\u001b[1m\u001b[31m/work/tmpqkqnw_vb.py\u001b[0m:6: DocTestFailure\n===================================== short test summary info ======================================\nFAILED tmpqkqnw_vb.py::__main__.mul\n",
     "output_type": "stream"
    }
   ],
   "execution_count": null
  },
  {
   "cell_type": "markdown",
   "source": "### Writing Tests with Pytest\n\nPytest also searches for any function whose name starts with the word **test_()**, so adding tests is a simple as adding new functions.\n\n**Exercises** \n\n  1. Fix the tests and function below so that everything passes and is correct.\n  2. Add another test to verify the function works as expected.",
   "metadata": {
    "tags": [],
    "cell_id": "00006-9ac89aeb-7cc4-430c-9359-f3eb3a1aba04",
    "deepnote_cell_type": "markdown"
   }
  },
  {
   "cell_type": "code",
   "metadata": {
    "tags": [],
    "cell_id": "00001-f5c801ad-b920-4279-8a23-07ee247099cc",
    "deepnote_to_be_reexecuted": false,
    "source_hash": "5f71887d",
    "execution_start": 1637655172002,
    "execution_millis": 350,
    "deepnote_cell_type": "code"
   },
   "source": "%%ipytest -qq\n\ndef mul(x, y):\n    return x + y\n\ndef test_two_times_two_is_four():\n    assert mul(2, 2) == 4\n\ndef test_two_times_thress_is_six():\n    assert mul(2, 3) == 6\n\ndef test_four_times_five_is_nine():\n    assert mul(4, 5) == 9",
   "outputs": [
    {
     "name": "stdout",
     "text": "\u001b[32m.\u001b[0m\u001b[31mF\u001b[0m\u001b[32m.\u001b[0m\u001b[31m                                                                                          [100%]\u001b[0m\n============================================= FAILURES =============================================\n\u001b[31m\u001b[1m___________________________________ test_two_times_thress_is_six ___________________________________\u001b[0m\n\n    \u001b[94mdef\u001b[39;49;00m \u001b[92mtest_two_times_thress_is_six\u001b[39;49;00m():\n>       \u001b[94massert\u001b[39;49;00m mul(\u001b[94m2\u001b[39;49;00m, \u001b[94m3\u001b[39;49;00m) == \u001b[94m6\u001b[39;49;00m\n\u001b[1m\u001b[31mE       assert 5 == 6\u001b[0m\n\u001b[1m\u001b[31mE        +  where 5 = mul(2, 3)\u001b[0m\n\n\u001b[1m\u001b[31m<ipython-input-34-1e71bd19ab83>\u001b[0m:8: AssertionError\n===================================== short test summary info ======================================\nFAILED tmpvnzl8hkf.py::test_two_times_thress_is_six - assert 5 == 6\n",
     "output_type": "stream"
    }
   ],
   "execution_count": null
  },
  {
   "cell_type": "markdown",
   "source": "### Parametrizing tests\n\nIf writing a new test requires changing only some values, then it might be more convenient to *parametrize* the test, and have pytest run the same function with multiple sets of values.\n\n**Exercises** \n\n  1. Fix the tests and function below so that everything passes and is correct.\n  2. Add another test to verify the function works as expected.",
   "metadata": {
    "tags": [],
    "cell_id": "00008-45735c83-1870-4557-af4d-5871bccbb039",
    "deepnote_cell_type": "markdown"
   }
  },
  {
   "cell_type": "code",
   "metadata": {
    "tags": [],
    "cell_id": "00003-07763dbe-9f1c-4203-a29f-42a65706987f",
    "deepnote_to_be_reexecuted": false,
    "source_hash": "e60813f2",
    "execution_start": 1637655350428,
    "execution_millis": 346,
    "deepnote_output_heights": [
     20.65625
    ],
    "deepnote_cell_type": "code"
   },
   "source": "%%ipytest -qq\n\nfrom pytest import mark\n\ndef mul(x, y):\n    return x + y\n\n@mark.parametrize(\"x,y,z\", [(2, 2, 4), (2, 3, 6), (4, 5, 9)])\ndef test_adding(x, y, z):\n    assert mul(x, y) == z",
   "outputs": [
    {
     "name": "stdout",
     "text": "\u001b[32m.\u001b[0m\u001b[31mF\u001b[0m\u001b[32m.\u001b[0m\u001b[31m                                                                                          [100%]\u001b[0m\n============================================= FAILURES =============================================\n\u001b[31m\u001b[1m________________________________________ test_adding[2-3-6] ________________________________________\u001b[0m\n\nx = 2, y = 3, z = 6\n\n    \u001b[37m@mark\u001b[39;49;00m.parametrize(\u001b[33m\"\u001b[39;49;00m\u001b[33mx,y,z\u001b[39;49;00m\u001b[33m\"\u001b[39;49;00m, [(\u001b[94m2\u001b[39;49;00m, \u001b[94m2\u001b[39;49;00m, \u001b[94m4\u001b[39;49;00m), (\u001b[94m2\u001b[39;49;00m, \u001b[94m3\u001b[39;49;00m, \u001b[94m6\u001b[39;49;00m), (\u001b[94m4\u001b[39;49;00m, \u001b[94m5\u001b[39;49;00m, \u001b[94m9\u001b[39;49;00m)])\n    \u001b[94mdef\u001b[39;49;00m \u001b[92mtest_adding\u001b[39;49;00m(x, y, z):\n>       \u001b[94massert\u001b[39;49;00m mul(x, y) == z\n\u001b[1m\u001b[31mE       assert 5 == 6\u001b[0m\n\u001b[1m\u001b[31mE        +  where 5 = mul(2, 3)\u001b[0m\n\n\u001b[1m\u001b[31m<ipython-input-35-797b581d9bc2>\u001b[0m:8: AssertionError\n===================================== short test summary info ======================================\nFAILED tmponzzt84h.py::test_adding[2-3-6] - assert 5 == 6\n",
     "output_type": "stream"
    }
   ],
   "execution_count": null
  },
  {
   "cell_type": "markdown",
   "source": "### Generating Parameters for Tests\n\nFinally, if there is a pattern to the parameters, it's also possible to use tools like [Hypothesis](https://hypothesis.readthedocs.io/en/latest/quickstart.html) to generate parameters for you.  To do this, you describe parameter-generating strategies for the test to run.  For scientific code, this often lets you explore a wide variety of combinations of parameters that would normally be difficult to check.\n\n**Exercises** \n\n  1. Fix the tests and function below so that everything passes and is correct.\n  2. Add another test to verify the function works as expected.",
   "metadata": {
    "tags": [],
    "cell_id": "00010-d9c4b9dc-a6d5-4f4d-b7ea-18448ca03945",
    "deepnote_cell_type": "markdown"
   }
  },
  {
   "cell_type": "code",
   "metadata": {
    "tags": [],
    "cell_id": "00011-e671b68c-bec8-4889-964a-7e5030e7b618",
    "deepnote_to_be_reexecuted": false,
    "source_hash": "211a267a",
    "execution_start": 1637655632644,
    "execution_millis": 1217,
    "deepnote_cell_type": "code"
   },
   "source": "%%ipytest -qq\n\nfrom hypothesis import given\nfrom hypothesis.strategies import floats\n\ndef mul(x, y):\n    return x + y\n\n@given(x=floats(), y=floats())\ndef test_mul(x, y):\n    z = x * y\n    assert mul(x, y) == z",
   "outputs": [
    {
     "name": "stdout",
     "text": "\u001b[31mF\u001b[0m\u001b[31m                                                                                            [100%]\u001b[0m\n============================================= FAILURES =============================================\n\u001b[31m\u001b[1m_____________________________________________ test_mul _____________________________________________\u001b[0m\n\n    \u001b[37m@given\u001b[39;49;00m(x=floats(), y=floats())\n>   \u001b[94mdef\u001b[39;49;00m \u001b[92mtest_mul\u001b[39;49;00m(x, y):\n\n\u001b[1m\u001b[31m<ipython-input-44-1a70756d417c>\u001b[0m:8: \n_ _ _ _ _ _ _ _ _ _ _ _ _ _ _ _ _ _ _ _ _ _ _ _ _ _ _ _ _ _ _ _ _ _ _ _ _ _ _ _ _ _ _ _ _ _ _ _ _ _ \n\nx = 0.0, y = 1.0\n\n    \u001b[37m@given\u001b[39;49;00m(x=floats(), y=floats())\n    \u001b[94mdef\u001b[39;49;00m \u001b[92mtest_mul\u001b[39;49;00m(x, y):\n        z = x * y\n>       \u001b[94massert\u001b[39;49;00m mul(x, y) == z\n\u001b[1m\u001b[31mE       assert 1.0 == 0.0\u001b[0m\n\u001b[1m\u001b[31mE        +  where 1.0 = mul(0.0, 1.0)\u001b[0m\n\n\u001b[1m\u001b[31m<ipython-input-44-1a70756d417c>\u001b[0m:10: AssertionError\n-------------------------------------------- Hypothesis --------------------------------------------\nFalsifying example: test_mul(\n    x=0.0, y=1.0,\n)\n\u001b[33m========================================= warnings summary =========================================\u001b[0m\n../shared-libs/python3.7/py/lib/python3.7/site-packages/_pytest/config/__init__.py:1114\n  /shared-libs/python3.7/py/lib/python3.7/site-packages/_pytest/config/__init__.py:1114: PytestAssertRewriteWarning: Module already imported so cannot be rewritten: hypothesis\n    self._mark_plugins_for_rewrite(hook)\n\n-- Docs: https://docs.pytest.org/en/stable/warnings.html\n===================================== short test summary info ======================================\nFAILED tmpr7blpi9c.py::test_mul - assert 1.0 == 0.0\n",
     "output_type": "stream"
    }
   ],
   "execution_count": null
  },
  {
   "cell_type": "markdown",
   "source": "## Exercises: Practicing TDD as a group using \"Ping-Pong Programming\"\n\nPing-pong programming involves two or more people, where you follow the TDD cycle:\n\n  1. The first person writes the simplest test they can think of to fix, in order to make the function fail.\n  2. The second edits the function to make the test pass, then writes the next test for the next person to try and pass.\n\n\nIn your group, use **Ping-Pong** Programming and TDD to develop the functions below.\n",
   "metadata": {
    "tags": [],
    "cell_id": "00012-fd9da67c-b7c6-4ca0-993e-ab0201b9ab2e",
    "deepnote_to_be_reexecuted": false,
    "source_hash": "2898633c",
    "execution_start": 1637655808682,
    "execution_millis": 7,
    "deepnote_cell_type": "markdown"
   }
  },
  {
   "cell_type": "markdown",
   "source": "**Exercise**: Without using any packages, write a function that calculates the mean of a list of numbers.",
   "metadata": {
    "tags": [],
    "cell_id": "00013-a614d40b-8cf3-43b1-a98d-af10d9c4300f",
    "deepnote_cell_type": "markdown"
   }
  },
  {
   "cell_type": "code",
   "metadata": {
    "tags": [],
    "cell_id": "00014-3ecaf940-7e37-400a-9ca9-d90255307fdc",
    "deepnote_cell_type": "code"
   },
   "source": "",
   "outputs": [],
   "execution_count": null
  },
  {
   "cell_type": "markdown",
   "source": "**Exercise**: Without using any packages, write a function that calculates the median of a list of numbers.",
   "metadata": {
    "tags": [],
    "cell_id": "00015-1a020ee7-71e7-42cd-be0d-d3f87e72ff56",
    "deepnote_cell_type": "markdown"
   }
  },
  {
   "cell_type": "code",
   "metadata": {
    "tags": [],
    "cell_id": "00016-73683288-e581-4af4-9922-ecf553757917",
    "deepnote_cell_type": "code"
   },
   "source": "",
   "outputs": [],
   "execution_count": null
  },
  {
   "cell_type": "markdown",
   "source": "**Exercise**: Without using any packages, write the function **from_roman()**, which takes a string that represents a roman numeral (e.g. `'XII'`) and returns the positive integer translation of that roman numeral (e.g. `12`), according to the following chart:\n\n<img src=https://www.exceltemplates.org/wp-content/uploads/2016/05/Roman-Numerals.jpeg width=400>\n\n**Note** The team who gets the highest number N that *doesn't* pass when counting from 1 to N wins! ;-)\n",
   "metadata": {
    "tags": [],
    "cell_id": "00017-180da9a8-f21b-4b1d-817d-10eacef01afe",
    "deepnote_cell_type": "markdown"
   }
  },
  {
   "cell_type": "code",
   "metadata": {
    "tags": [],
    "cell_id": "00018-7bd7b110-6a75-4e0e-84f2-596a0644428d",
    "deepnote_cell_type": "code"
   },
   "source": "",
   "outputs": [],
   "execution_count": null
  },
  {
   "cell_type": "markdown",
   "source": "<a style='text-decoration:none;line-height:16px;display:flex;color:#5B5B62;padding:10px;justify-content:end;' href='https://deepnote.com?utm_source=created-in-deepnote-cell&projectId=286cad4e-3049-4040-b8ae-ac30773a7605' target=\"_blank\">\n<img alt='Created in deepnote.com' style='display:inline;max-height:16px;margin:0px;margin-right:7.5px;' src='data:image/svg+xml;base64,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' > </img>\nCreated in <span style='font-weight:600;margin-left:4px;'>Deepnote</span></a>",
   "metadata": {
    "tags": [],
    "created_in_deepnote_cell": true,
    "deepnote_cell_type": "markdown"
   }
  }
 ],
 "nbformat": 4,
 "nbformat_minor": 2,
 "metadata": {
  "orig_nbformat": 2,
  "deepnote": {
   "is_reactive": false
  },
  "deepnote_notebook_id": "67b9cefc-df9d-4fee-a90c-c313857147e6",
  "deepnote_execution_queue": []
 }
}