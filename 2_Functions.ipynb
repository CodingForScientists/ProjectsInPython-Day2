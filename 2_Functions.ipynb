{
 "cells": [
  {
   "cell_type": "markdown",
   "metadata": {
    "tags": [],
    "cell_id": "00000-3a9a3dd0-8708-4785-a7d6-5fec96cc1c2e",
    "deepnote_cell_type": "markdown"
   },
   "source": "# Packaging Code into Functions\n\n```python\ndef my_function(x, y):   # Define a function name and its arguments x and y\n    z = x + y            # Make calculations in the function body\n    return z             # \"Return\" data out of the function.\n```\n.",
   "execution_count": null
  },
  {
   "cell_type": "markdown",
   "source": "### Functions without Arguments\n\n```python\ndef my_function():\n    return 'Hi!'\n```\n.",
   "metadata": {
    "tags": [],
    "cell_id": "00001-b05e1def-8c5d-4bec-8231-6e3b82b611a3",
    "deepnote_cell_type": "markdown"
   },
   "outputs": [],
   "execution_count": null
  },
  {
   "cell_type": "markdown",
   "source": "**Exercises**: Write a function that doesn't raise an error in the assertion cells below it. ",
   "metadata": {
    "tags": [],
    "cell_id": "00001-ae8c292b-8fc2-4d03-8a98-71f267df3056",
    "deepnote_cell_type": "markdown"
   },
   "outputs": [],
   "execution_count": null
  },
  {
   "outputs": [],
   "execution_count": null,
   "cell_type": "markdown",
   "source": "**get_gccta_sequence()**: Returns the sequence GCCTA",
   "metadata": {
    "tags": [],
    "cell_id": "00001-647a59b0-ee50-43d8-9a20-0549fb6a5272",
    "deepnote_cell_type": "markdown"
   }
  },
  {
   "outputs": [],
   "execution_count": 0,
   "cell_type": "code",
   "source": "",
   "metadata": {
    "tags": [],
    "cell_id": "00004-02725c4d-7f8d-4aa6-9994-deb8f778ad06",
    "deepnote_to_be_reexecuted": false,
    "source_hash": "b623e53d",
    "execution_start": 1637740951166,
    "execution_millis": 0,
    "deepnote_cell_type": "code"
   }
  },
  {
   "cell_type": "code",
   "source": "assert get_gccta_sequence() == 'GCCTA'   # Run this cell to check your function.  If no error is raised, it worked!\nprint('Passed!')",
   "metadata": {
    "tags": [],
    "cell_id": "00005-b734c13f-72cb-4eec-a311-085ca04d6739",
    "deepnote_to_be_reexecuted": false,
    "source_hash": "8cfabef3",
    "execution_start": 1637741043188,
    "execution_millis": 488,
    "deepnote_cell_type": "code"
   },
   "outputs": [
    {
     "output_type": "error",
     "ename": "NameError",
     "evalue": "name 'get_sequence' is not defined",
     "traceback": [
      "\u001b[0;31m---------------------------------------------------------------------------\u001b[0m",
      "\u001b[0;31mNameError\u001b[0m                                 Traceback (most recent call last)",
      "\u001b[0;32m<ipython-input-1-8b133c4683c1>\u001b[0m in \u001b[0;36m<module>\u001b[0;34m\u001b[0m\n\u001b[0;32m----> 1\u001b[0;31m \u001b[0;32massert\u001b[0m \u001b[0mget_sequence\u001b[0m\u001b[0;34m(\u001b[0m\u001b[0;34m)\u001b[0m \u001b[0;34m==\u001b[0m \u001b[0;34m'GCCTA'\u001b[0m   \u001b[0;31m# Run this cell to check your function.  If no error is raised, it worked!\u001b[0m\u001b[0;34m\u001b[0m\u001b[0;34m\u001b[0m\u001b[0m\n\u001b[0m\u001b[1;32m      2\u001b[0m \u001b[0mprint\u001b[0m\u001b[0;34m(\u001b[0m\u001b[0;34m'Passed!'\u001b[0m\u001b[0;34m)\u001b[0m\u001b[0;34m\u001b[0m\u001b[0;34m\u001b[0m\u001b[0m\n",
      "\u001b[0;31mNameError\u001b[0m: name 'get_sequence' is not defined"
     ]
    }
   ],
   "execution_count": 1
  },
  {
   "cell_type": "markdown",
   "source": "**count_to_five()**: Return a list of values from 1 to 5",
   "metadata": {
    "tags": [],
    "cell_id": "00006-734bfa91-1377-4971-8df0-96ef5b42127b",
    "deepnote_cell_type": "markdown"
   },
   "outputs": [],
   "execution_count": null
  },
  {
   "outputs": [],
   "execution_count": null,
   "cell_type": "code",
   "source": "",
   "metadata": {
    "tags": [],
    "cell_id": "00007-949c99d1-fbdd-4087-b370-110eb35e03b1",
    "deepnote_cell_type": "code"
   }
  },
  {
   "cell_type": "code",
   "source": "assert count_fo_five() == [1, 2, 3, 4, 5]\nprint('Passed!')",
   "metadata": {
    "tags": [],
    "cell_id": "00008-58677fe8-a72a-41b7-8d87-32f863e32619",
    "deepnote_cell_type": "code"
   },
   "outputs": [],
   "execution_count": null
  },
  {
   "cell_type": "markdown",
   "source": "### Functions with Arguments\n\n```python\ndef my_function(x, y):   # Define a function name and its arguments x and y\n    z = x + y            # Make calculations in the function body\n    return z             # \"Return\" data out of the function.\n```\n.\n\n\n",
   "metadata": {
    "tags": [],
    "cell_id": "00009-45a6333f-5cbc-4f16-977f-74908f54d7b8",
    "deepnote_cell_type": "markdown"
   },
   "outputs": [],
   "execution_count": null
  },
  {
   "cell_type": "markdown",
   "source": "**Exercises**",
   "metadata": {
    "tags": [],
    "cell_id": "00010-f57bf685-08b5-4cf6-ac90-6348b31ac2f2",
    "deepnote_cell_type": "markdown"
   }
  },
  {
   "cell_type": "markdown",
   "source": "**format_seq()**",
   "metadata": {
    "tags": [],
    "cell_id": "00011-a8183dc6-3a2a-4c86-831e-df3d4a790266",
    "deepnote_cell_type": "markdown"
   }
  },
  {
   "outputs": [],
   "execution_count": null,
   "cell_type": "code",
   "source": "",
   "metadata": {
    "tags": [],
    "cell_id": "00012-4308ee59-ebec-41c2-a48d-19ec233b7a6b",
    "deepnote_cell_type": "code"
   }
  },
  {
   "cell_type": "code",
   "source": "assert standardize_seq('gTgC') == 'GTGC'\nassert standardize_seq('CCAaa') == 'CCAAA'\nassert standardize_seq('aGaTt') == 'AGATT'\nprint('Passed!')",
   "metadata": {
    "tags": [],
    "cell_id": "00013-3da91ac7-92e4-4400-a215-2aaff00dac9b",
    "deepnote_cell_type": "code"
   },
   "outputs": [],
   "execution_count": null
  },
  {
   "cell_type": "markdown",
   "source": "**get_first_codons()**",
   "metadata": {
    "tags": [],
    "cell_id": "00014-e87f4b8f-c163-4f4f-9f48-c24b9626b557",
    "deepnote_cell_type": "markdown"
   },
   "outputs": [],
   "execution_count": null
  },
  {
   "outputs": [],
   "execution_count": null,
   "cell_type": "code",
   "source": "",
   "metadata": {
    "tags": [],
    "cell_id": "00015-e678fbd4-e57f-402d-8704-66594a8c5b33",
    "deepnote_cell_type": "code"
   }
  },
  {
   "outputs": [],
   "execution_count": null,
   "cell_type": "code",
   "source": "assert get_first_codons(['ATGCCA', 'AATTAGC']) == ['ATG', 'AAT']\nassert get_first_codons(['GGAAGC', 'CCCAATA']) == ['GGA', 'CCC']\nprint('Passed!')",
   "metadata": {
    "tags": [],
    "cell_id": "00016-f2a4c1aa-20dc-427c-95e5-0c4fd83ae20e",
    "deepnote_cell_type": "code"
   }
  },
  {
   "cell_type": "markdown",
   "source": "**is_positive()**",
   "metadata": {
    "tags": [],
    "cell_id": "00017-7f243c37-5928-428f-98dc-738b27488457",
    "deepnote_cell_type": "markdown"
   },
   "outputs": [],
   "execution_count": null
  },
  {
   "cell_type": "code",
   "source": "",
   "metadata": {
    "tags": [],
    "cell_id": "00018-7ea5e25b-e3dd-44a8-b18a-b45de7afd2ab",
    "deepnote_cell_type": "code"
   },
   "outputs": [],
   "execution_count": null
  },
  {
   "cell_type": "code",
   "source": "assert is_positive(32) == True\nassert is_positive(-4) == False\nassert is_positive(0) == False\nprint('Passed!')",
   "metadata": {
    "tags": [],
    "cell_id": "00019-711c123c-7c53-4a4f-b430-0f7e0de6361f",
    "deepnote_cell_type": "code"
   },
   "outputs": [],
   "execution_count": null
  },
  {
   "cell_type": "markdown",
   "source": "**sum_each()**",
   "metadata": {
    "tags": [],
    "cell_id": "00020-008172e1-be4e-442a-8908-b0ecedc7d8bd",
    "deepnote_cell_type": "markdown"
   },
   "outputs": [],
   "execution_count": null
  },
  {
   "outputs": [],
   "execution_count": null,
   "cell_type": "code",
   "source": "",
   "metadata": {
    "tags": [],
    "cell_id": "00021-e9c31243-49ee-43b0-ad4b-ebe373dcf175",
    "deepnote_cell_type": "code"
   }
  },
  {
   "cell_type": "code",
   "source": "assert sum_each([1, 2], [3, 4]) == [4, 6]\nassert sum_each([-3, 5, 10], [10, 11, 12]) == [7, 16, 22]\nprint('Passed!')",
   "metadata": {
    "tags": [],
    "cell_id": "00022-05aedddb-a7b9-47d8-8d23-21ebf56c01f8",
    "deepnote_cell_type": "code"
   },
   "outputs": [],
   "execution_count": null
  },
  {
   "cell_type": "markdown",
   "source": "**get_range()**",
   "metadata": {
    "tags": [],
    "cell_id": "00023-f6e14015-03aa-46aa-b952-5f6525d4fe2f",
    "deepnote_cell_type": "markdown"
   },
   "outputs": [],
   "execution_count": null
  },
  {
   "cell_type": "code",
   "source": "",
   "metadata": {
    "tags": [],
    "cell_id": "00023-970c8100-6714-4585-b1e7-26c90d004b72",
    "deepnote_cell_type": "code"
   },
   "outputs": [],
   "execution_count": null
  },
  {
   "cell_type": "code",
   "source": "assert get_range(0, 5) == [0, 1, 2, 3, 4]\nassert get_range(2, 4) == [2, 3]\nprint('Passed!')",
   "metadata": {
    "tags": [],
    "cell_id": "00025-c947ff91-b76c-4813-975f-235e0eeac888",
    "deepnote_cell_type": "code"
   },
   "outputs": [],
   "execution_count": null
  },
  {
   "cell_type": "markdown",
   "source": "<a style='text-decoration:none;line-height:16px;display:flex;color:#5B5B62;padding:10px;justify-content:end;' href='https://deepnote.com?utm_source=created-in-deepnote-cell&projectId=286cad4e-3049-4040-b8ae-ac30773a7605' target=\"_blank\">\n<img alt='Created in deepnote.com' style='display:inline;max-height:16px;margin:0px;margin-right:7.5px;' src='data:image/svg+xml;base64,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' > </img>\nCreated in <span style='font-weight:600;margin-left:4px;'>Deepnote</span></a>",
   "metadata": {
    "tags": [],
    "created_in_deepnote_cell": true,
    "deepnote_cell_type": "markdown"
   }
  }
 ],
 "nbformat": 4,
 "nbformat_minor": 2,
 "metadata": {
  "orig_nbformat": 2,
  "deepnote": {
   "is_reactive": false
  },
  "deepnote_notebook_id": "65f630fa-67d1-4e2f-8c8a-215a0b3e92bb",
  "deepnote_execution_queue": []
 }
}