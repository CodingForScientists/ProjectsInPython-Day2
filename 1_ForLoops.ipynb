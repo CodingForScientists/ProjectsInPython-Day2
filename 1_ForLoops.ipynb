{
 "cells": [
  {
   "cell_type": "markdown",
   "metadata": {
    "cell_id": "00000-a630562b-b133-4c27-8594-8e7c143564a4",
    "deepnote_cell_type": "markdown",
    "tags": []
   },
   "source": [
    "# For-Each Loops: Repetition through Iteration"
   ]
  },
  {
   "cell_type": "markdown",
   "metadata": {
    "cell_id": "00001-6c8576f9-4a2d-4a66-a02b-157eb2e71528",
    "deepnote_cell_type": "markdown",
    "tags": []
   },
   "source": [
    "## For-Each Loops:\n",
    "\n",
    "Like R and Matlab, Python makes it straightford repeat commands \"For-Each\" element in a data collection.  For example, to print each element in a list:\n",
    "\n",
    "```python\n",
    "names = ['Ted', 'Roy', 'Keeley']\n",
    "for name in names:\n",
    "   print(name)\n",
    "# prints \"Ted\" then \"Roy\" then \"Keeley\"\n",
    "```\n",
    ".\n",
    "\n"
   ]
  },
  {
   "cell_type": "markdown",
   "metadata": {
    "cell_id": "00002-6ee8a081-ee3b-43df-8cd5-1c780c742c3b",
    "deepnote_cell_type": "markdown",
    "tags": []
   },
   "source": [
    "**Exercises**"
   ]
  },
  {
   "cell_type": "markdown",
   "metadata": {
    "cell_id": "00003-41795e9c-2b53-4390-a4b6-d16d9506fe1d",
    "deepnote_cell_type": "markdown",
    "tags": []
   },
   "source": [
    "One by one, print each line in this haiku"
   ]
  },
  {
   "cell_type": "code",
   "execution_count": 2,
   "metadata": {
    "cell_id": "00004-36bc014b-2ac6-497f-952b-72463d6fd32e",
    "deepnote_cell_type": "code",
    "deepnote_to_be_reexecuted": false,
    "execution_millis": 3,
    "execution_start": 1637738311848,
    "source_hash": "111e1b77",
    "tags": []
   },
   "outputs": [
    {
     "name": "stdout",
     "output_type": "stream",
     "text": [
      "“A World of Dew” by Kobayashi Issa\n",
      "----------------------------------\n",
      "\n",
      "A world of dew,\n",
      "And within every dewdrop\n",
      "A world of struggle.\n"
     ]
    }
   ],
   "source": [
    "haiku = ['“A World of Dew” by Kobayashi Issa', '----------------------------------', '', 'A world of dew,', 'And within every dewdrop', 'A world of struggle.']\n",
    "\n",
    "for line in haiku:\n",
    "    print(line)\n"
   ]
  },
  {
   "cell_type": "markdown",
   "metadata": {
    "cell_id": "00003-7b467cb5-c73f-4055-a371-f9fb1458b4c4",
    "deepnote_cell_type": "markdown",
    "tags": []
   },
   "source": [
    "Print 10 times each number in the list \n",
    "For example, `[2, 4]` should print `20` then `40`."
   ]
  },
  {
   "cell_type": "code",
   "execution_count": 3,
   "metadata": {
    "cell_id": "00001-f32d95ee-7ec6-45c9-95e6-c611d8a21d7a",
    "deepnote_cell_type": "code",
    "deepnote_to_be_reexecuted": false,
    "execution_millis": 11,
    "execution_start": 1634192534154,
    "source_hash": "5b10538f",
    "tags": []
   },
   "outputs": [
    {
     "name": "stdout",
     "output_type": "stream",
     "text": [
      "40\n",
      "80\n",
      "100\n",
      "50\n"
     ]
    }
   ],
   "source": [
    "nums = [4, 8, 10, 5]\n",
    "for num in nums:\n",
    "    print(num * 10)"
   ]
  },
  {
   "cell_type": "markdown",
   "metadata": {
    "cell_id": "00005-ed0c17c0-ab8d-4412-b3a6-252c4bbd8a14",
    "deepnote_cell_type": "markdown",
    "tags": []
   },
   "source": [
    "Print the first letter of each name in the list"
   ]
  },
  {
   "cell_type": "code",
   "execution_count": null,
   "metadata": {
    "cell_id": "00005-7b6055cb-8d61-484a-9e14-98cb32334410",
    "deepnote_cell_type": "code",
    "deepnote_to_be_reexecuted": false,
    "execution_millis": 3,
    "execution_start": 1634192558128,
    "source_hash": "3d0d6b91",
    "tags": []
   },
   "outputs": [],
   "source": [
    "names = [\"John\", \"Harry\", \"Moe\", \"Luke\"]"
   ]
  },
  {
   "cell_type": "markdown",
   "metadata": {
    "cell_id": "00009-9c1e2ac6-9ef9-4257-b6a9-d4e8334f6a78",
    "deepnote_cell_type": "markdown",
    "tags": []
   },
   "source": [
    "## List-Append Loop Pattern"
   ]
  },
  {
   "cell_type": "markdown",
   "metadata": {
    "cell_id": "00009-3e0c9db5-f7bc-48bf-b60c-a98bd644a1d7",
    "deepnote_cell_type": "markdown",
    "tags": []
   },
   "source": [
    "This can also be used to create new data collections.  For example:\n",
    "\n",
    "```python\n",
    "old_names = ['ted', 'roy', 'keeley']\n",
    "new_names = []\n",
    "for name in old_names:\n",
    "   new_names.append(name.title())\n",
    "```"
   ]
  },
  {
   "cell_type": "markdown",
   "metadata": {
    "cell_id": "00011-02d72e01-472f-4f3e-aeee-f9be253338af",
    "deepnote_cell_type": "markdown",
    "tags": []
   },
   "source": [
    "**Exercises**"
   ]
  },
  {
   "cell_type": "markdown",
   "metadata": {
    "cell_id": "00012-ff3a7af3-c63a-46c2-8f46-a9d0ea3dbc0d",
    "deepnote_cell_type": "markdown",
    "tags": []
   },
   "source": [
    "Make a list with the first codon of each sequence"
   ]
  },
  {
   "cell_type": "code",
   "execution_count": 5,
   "metadata": {
    "cell_id": "00009-0241661a-91eb-45a2-bf9a-0e57442cd947",
    "deepnote_cell_type": "code",
    "deepnote_to_be_reexecuted": false,
    "execution_millis": 4,
    "execution_start": 1634192926318,
    "source_hash": "11432b8e",
    "tags": []
   },
   "outputs": [
    {
     "data": {
      "text/plain": [
       "['GTA', 'GTA', 'GGT']"
      ]
     },
     "execution_count": 5,
     "metadata": {},
     "output_type": "execute_result"
    }
   ],
   "source": [
    "seqs = [\"GTAATCG\", \"GTACCAAA\", \"GGTAGTACCAC\"]\n",
    "codons = []\n",
    "for seq in seqs:\n",
    "    codon = seq[0:3]\n",
    "    codons.append(codon)\n",
    "codons"
   ]
  },
  {
   "cell_type": "markdown",
   "metadata": {
    "cell_id": "00014-bd584def-44a1-4a12-a680-c112aa50d260",
    "deepnote_cell_type": "markdown",
    "tags": []
   },
   "source": [
    "Clean up the data.  Make a list with that formats each sequence the same way."
   ]
  },
  {
   "cell_type": "code",
   "execution_count": null,
   "metadata": {
    "cell_id": "00014-a17dfc9f-11c4-4f5b-9aec-3c7290710a5d",
    "deepnote_cell_type": "code",
    "deepnote_to_be_reexecuted": false,
    "execution_millis": 0,
    "execution_start": 1634192983915,
    "source_hash": "2609f853",
    "tags": []
   },
   "outputs": [],
   "source": [
    "seqs = [\"GTAATCG\", \"gtaccaaa\", \"GGtAGtACCaC\"]"
   ]
  },
  {
   "cell_type": "markdown",
   "metadata": {
    "cell_id": "00015-c4f60957-081c-4784-8afc-fb3430cf0c1c",
    "deepnote_cell_type": "markdown",
    "tags": []
   },
   "source": [
    "Make a list of the number of A in each sequence"
   ]
  },
  {
   "cell_type": "code",
   "execution_count": 9,
   "metadata": {
    "cell_id": "00017-6eb0a4fc-c8b7-46ee-b30e-c1d9ccc76bf5",
    "deepnote_cell_type": "code",
    "deepnote_to_be_reexecuted": false,
    "execution_millis": 1,
    "execution_start": 1634193031511,
    "source_hash": "2609f853",
    "tags": []
   },
   "outputs": [
    {
     "data": {
      "text/plain": [
       "[2, 4, 3]"
      ]
     },
     "execution_count": 9,
     "metadata": {},
     "output_type": "execute_result"
    }
   ],
   "source": [
    "seqs = [\"GTAATCG\", \"gtaccaaa\", \"GGtAGtACCaC\"]\n",
    "a_list = []\n",
    "for seq in seqs:\n",
    "    upper_seq = seq.upper()\n",
    "    num_as = upper_seq.count('A')\n",
    "    a_list.append(num_as)\n",
    "a_list"
   ]
  },
  {
   "cell_type": "markdown",
   "metadata": {
    "cell_id": "00018-59190df2-fa16-4b4c-8b93-b7fc3e146693",
    "deepnote_cell_type": "markdown",
    "tags": []
   },
   "source": [
    "Make a list sequences from the list of sequences combinations.\n"
   ]
  },
  {
   "cell_type": "code",
   "execution_count": 22,
   "metadata": {
    "cell_id": "00019-9564b195-419f-432c-b0ba-de0bfe173a74",
    "deepnote_cell_type": "code",
    "deepnote_to_be_reexecuted": false,
    "execution_millis": 0,
    "execution_start": 1634193208699,
    "source_hash": "2db72f6f",
    "tags": []
   },
   "outputs": [
    {
     "data": {
      "text/plain": [
       "['GCAGA', 'GATATC', 'GGTAAAA', 'ACTAGA', 'GGTATA', 'GGTAA']"
      ]
     },
     "execution_count": 22,
     "metadata": {},
     "output_type": "execute_result"
    }
   ],
   "source": [
    "multi_seqs = ['GCAGA GATATC', 'GGTAAAA ACTAGA GGTATA', 'GGTAA']\n",
    "new_seqs = []\n",
    "for multi_seq in multi_seqs:\n",
    "    for seq in multi_seq.split(' '):\n",
    "        new_seqs.append(seq)\n",
    "new_seqs"
   ]
  },
  {
   "cell_type": "code",
   "execution_count": 20,
   "metadata": {},
   "outputs": [
    {
     "data": {
      "text/plain": [
       "['GCAGA', 'GATATC', 'GGTAAAA', 'ACTAGA', 'GGTATA', 'GGTAA']"
      ]
     },
     "execution_count": 20,
     "metadata": {},
     "output_type": "execute_result"
    }
   ],
   "source": [
    "multi_seqs = ['GCAGA GATATC', 'GGTAAAA ACTAGA GGTATA', 'GGTAA']\n",
    "new_seqs = []\n",
    "for multi_seq in multi_seqs:\n",
    "    new_seqs.extend(multi_seq.split(' '))\n",
    "new_seqs"
   ]
  },
  {
   "cell_type": "code",
   "execution_count": 21,
   "metadata": {},
   "outputs": [
    {
     "data": {
      "text/plain": [
       "['GCAGA', 'GATATC', 'GGTAAAA', 'ACTAGA', 'GGTATA', 'GGTAA']"
      ]
     },
     "execution_count": 21,
     "metadata": {},
     "output_type": "execute_result"
    }
   ],
   "source": [
    "multi_seqs = ['GCAGA GATATC', 'GGTAAAA ACTAGA GGTATA', 'GGTAA']\n",
    "new_seqs = []\n",
    "for multi_seq in multi_seqs:\n",
    "    new_seqs += multi_seq.split(' ')\n",
    "new_seqs"
   ]
  },
  {
   "cell_type": "markdown",
   "metadata": {
    "cell_id": "00020-94b3d7ad-afc3-41ff-9945-8c10fa2d765d",
    "deepnote_cell_type": "markdown",
    "tags": []
   },
   "source": [
    "## Sequence-Unpacking Loop Pattern\n",
    "\n",
    "Loops are also useful when you have a collection of collections (e.g. a list of lists).\n",
    "When it's a collection of same-length sequences, you can break apart each sequence inside the loop and work with it:\n",
    "\n",
    "```python\n",
    "pairs = [[4, 5], [7, 8], [2, 9]]\n",
    "sums = []\n",
    "for pair in pairs:\n",
    "    first = pair[0]\n",
    "    second = pair[1]\n",
    "    sums.append(first + second)\n",
    "```\n",
    ".\n",
    "\n",
    "This is so common, that python provides some syntactic sugar (i.e. a shortcut) for breaking known-length sequences apart, called **\"Tuple Unpacking\"**\n",
    ".\n",
    "\n",
    "```python\n",
    "pairs = [[4, 5], [7, 8], [2, 9]]\n",
    "sums = []\n",
    "for first, second in pairs:\n",
    "    sums.append(first + second)\n",
    "```"
   ]
  },
  {
   "cell_type": "markdown",
   "metadata": {
    "cell_id": "00021-ce34db99-527e-45fa-a888-1a055532ed80",
    "deepnote_cell_type": "markdown",
    "tags": []
   },
   "source": [
    "**Exercises**"
   ]
  },
  {
   "cell_type": "markdown",
   "metadata": {
    "cell_id": "00020-898ed7a2-2860-4ac6-a000-d46f16c63b4e",
    "deepnote_cell_type": "markdown",
    "tags": []
   },
   "source": [
    "Make a list of the sum of each number pair"
   ]
  },
  {
   "cell_type": "code",
   "execution_count": null,
   "metadata": {
    "cell_id": "00021-eacd53c3-e0d2-44cf-a5fe-5269803e3944",
    "deepnote_cell_type": "code",
    "deepnote_to_be_reexecuted": false,
    "execution_millis": 0,
    "execution_start": 1634193665675,
    "source_hash": "2c8eda3e",
    "tags": []
   },
   "outputs": [],
   "source": [
    "pairs = [[4, 7], [7, 2], [10, 2], [5, 9]]"
   ]
  },
  {
   "cell_type": "markdown",
   "metadata": {
    "cell_id": "00026-bc8e8516-82a9-4163-b6d9-f1c8eb7d7ef6",
    "deepnote_cell_type": "markdown",
    "tags": []
   },
   "source": [
    "Make a list of Trues and Falses, saying whether the first sequence (the wild-type) in each triplet has more G's than both the second and third sequence in the triplet (the two experimental sequences)"
   ]
  },
  {
   "cell_type": "code",
   "execution_count": null,
   "metadata": {
    "cell_id": "00027-26479eab-7155-4b91-b617-02bd76dce67b",
    "deepnote_cell_type": "code",
    "deepnote_to_be_reexecuted": false,
    "execution_millis": 3,
    "execution_start": 1634194257070,
    "source_hash": "f2e588d",
    "tags": []
   },
   "outputs": [],
   "source": [
    "seq_collections = [\n",
    "    ('GACAGGAGATTA', 'GACCAGATA', 'GCCAGAGGATAA'),\n",
    "    ('gacccatagag', 'CAGATAcaga', 'GAGGAACCaca'),\n",
    "    ('ACCAGATA', 'GAGAAAGACCA', 'CCAGAGATATTA'),\n",
    "    ('AGGGACCCCA', 'CGCCCACCACCG', 'CCCATTATC'),\n",
    "]\n"
   ]
  },
  {
   "cell_type": "markdown",
   "metadata": {
    "cell_id": "00026-eff5ef14-89a9-413a-81dd-c8d15fbb5ac4",
    "deepnote_cell_type": "markdown",
    "tags": []
   },
   "source": [
    "Make a Dict of GC Counts, with each sequence as the dict's key and the total number of Gs and Cs as the value.\n",
    "\n",
    "E.g. `['GCA', 'AAT'] -> {'GCA': 2, 'AAT': 0}`\n",
    "\n",
    "*Reminder*: To append to a dictionary, just assign to its key: `gc_count['GCA'] = 2`"
   ]
  },
  {
   "cell_type": "code",
   "execution_count": 6,
   "metadata": {
    "cell_id": "00027-9abbf376-6c28-4872-bc16-4ce26e821cb8",
    "deepnote_cell_type": "code",
    "deepnote_to_be_reexecuted": false,
    "execution_millis": 0,
    "execution_start": 1637738955745,
    "source_hash": "adabeda8",
    "tags": []
   },
   "outputs": [],
   "source": [
    "seqs = ['ATCGAGC', 'TAATA', 'GCCATCT', 'CACCT']"
   ]
  },
  {
   "cell_type": "markdown",
   "metadata": {
    "cell_id": "00022-610aff56-3141-4ad9-9227-b992981b4bd3",
    "deepnote_cell_type": "markdown",
    "tags": []
   },
   "source": [
    "## The Zip Loop Pattern\n",
    "\n",
    "Most of the times, you don't have a collection of pairs--sometimes, you need to make that collection yourself before you can loop over them.  The `zip()` function makes this straightforward!\n",
    "\n",
    "```python\n",
    "names = ['Zanarah', 'Joe', 'Weiwei',]\n",
    "ages = [20, 21, 22]\n",
    "combined = list(zip(names, ages))  # [('Zanara', 20), ('Joe', 21), ...]\n",
    "\n",
    "for name, ages in combined:\n",
    "    print(name, age)\n",
    "```\n",
    ".\n",
    "\n",
    "To make it more concise, This can also be done inside the header of the for-loop:\n",
    "\n",
    "```python\n",
    "names = ['Zanarah', 'Joe', 'Weiwei',]\n",
    "ages = [20, 21, 22]\n",
    "for name, ages in zip(names, ages)):\n",
    "    print(name, age)\n",
    "```\n",
    ".\n",
    "\n",
    "\n"
   ]
  },
  {
   "cell_type": "markdown",
   "metadata": {
    "cell_id": "00029-1aeb33ab-333f-4035-8654-07a361030bc8",
    "deepnote_cell_type": "markdown",
    "tags": []
   },
   "source": [
    "**Exercises**"
   ]
  },
  {
   "cell_type": "markdown",
   "metadata": {
    "cell_id": "00030-2b4626f7-c0ed-4599-9ad3-1f386ace0160",
    "deepnote_cell_type": "markdown",
    "tags": []
   },
   "source": [
    "Add each pair of numbers"
   ]
  },
  {
   "cell_type": "code",
   "execution_count": null,
   "metadata": {
    "cell_id": "00031-988665b6-6b1b-4a51-84f4-934863d7a1d8",
    "deepnote_cell_type": "code",
    "deepnote_to_be_reexecuted": false,
    "execution_millis": 5,
    "execution_start": 1634194896827,
    "source_hash": "95cacf5e",
    "tags": []
   },
   "outputs": [],
   "source": [
    "firsts = [1, 2, 3, 4, 5]\n",
    "seconds = [10, 20, 30, 40, 50]"
   ]
  },
  {
   "cell_type": "markdown",
   "metadata": {
    "cell_id": "00030-8abffe37-04d8-485a-bb32-d61b8ae64053",
    "deepnote_cell_type": "markdown",
    "tags": []
   },
   "source": [
    "Print the patient number and treatment group of each patient\n",
    "(e.g. \"Patient 32341: control\")"
   ]
  },
  {
   "cell_type": "code",
   "execution_count": null,
   "metadata": {
    "cell_id": "00029-366ac013-e1ac-41e0-a94e-18b09358a8ee",
    "deepnote_cell_type": "code",
    "deepnote_to_be_reexecuted": false,
    "execution_millis": 4,
    "execution_start": 1634195339406,
    "source_hash": "9d1b5666",
    "tags": []
   },
   "outputs": [],
   "source": [
    "patients = [32451, 435679, 4211235, 123121]\n",
    "groups = ['control', 'treatment', 'treatment', 'control']\n"
   ]
  },
  {
   "cell_type": "markdown",
   "metadata": {
    "cell_id": "00034-1bee6202-d9f6-4a81-bb35-cc87891b952b",
    "deepnote_cell_type": "markdown",
    "tags": []
   },
   "source": [
    "Compare the number of Cs in each sequence.  Does the first have more or less than the second? "
   ]
  },
  {
   "cell_type": "code",
   "execution_count": null,
   "metadata": {
    "cell_id": "00035-58e10996-e2a8-4893-9f5e-024003063170",
    "deepnote_cell_type": "code",
    "deepnote_to_be_reexecuted": false,
    "execution_millis": 4,
    "execution_start": 1634195332178,
    "source_hash": "387493c9",
    "tags": []
   },
   "outputs": [],
   "source": [
    "firsts = ['GAGATTACA', 'CAGATGATA', 'GGAGGACCAAG']\n",
    "seconds = ['GGAACCAA', 'CACAGGAGA', 'GATATAACA']"
   ]
  },
  {
   "cell_type": "markdown",
   "metadata": {
    "cell_id": "00037-c26e38ad-330a-4428-9093-327d514c4b94",
    "deepnote_cell_type": "markdown",
    "tags": []
   },
   "source": [
    "## Enumerate Pattern\n",
    "\n",
    "Sometimes you want to store the **index** of items in a sequence.  You could calculate this in a loop:\n",
    "\n",
    "```python\n",
    "bundesländer = ['Baden-Württemberg', 'Bayern', 'Thuringen']\n",
    "idx = 0\n",
    "for bundesland in bundesländer:\n",
    "    print(idx, bundesland)  # prints 0 Baden-Württemberg\n",
    "    idx += 1\n",
    "```\n",
    ".\n",
    "\n",
    "Python's `enumerate()` function generates a list of (index, element) pairs:\n",
    "\n",
    "```python\n",
    "bundesländer = ['Baden-Württemberg', 'Bayern', 'Thuringen']\n",
    "for idx, bundesland in enumerate(bundesländer):\n",
    "    print(idx, bundesland)  # prints 0 Baden-Württemberg\n",
    "```\n",
    ".\n",
    "\n"
   ]
  },
  {
   "cell_type": "markdown",
   "metadata": {
    "cell_id": "00041-1a2de9ab-a383-4d83-99c1-76d586fb4e54",
    "deepnote_cell_type": "markdown",
    "tags": []
   },
   "source": [
    "**Exercises**"
   ]
  },
  {
   "cell_type": "markdown",
   "metadata": {
    "cell_id": "00042-4387e3fc-cb20-4198-a6e5-9af0de85501a",
    "deepnote_cell_type": "markdown",
    "tags": []
   },
   "source": [
    "Print the index and name of each person in the list"
   ]
  },
  {
   "cell_type": "code",
   "execution_count": 9,
   "metadata": {
    "cell_id": "00041-456fedf3-daa5-4cb8-9f1c-85b6a896d996",
    "deepnote_cell_type": "code",
    "deepnote_to_be_reexecuted": false,
    "execution_millis": 10,
    "execution_start": 1637739245191,
    "source_hash": "56863477",
    "tags": []
   },
   "outputs": [],
   "source": [
    "lost_fisherman = ['Innigo', 'Fezzik', 'Vizzinie']"
   ]
  },
  {
   "cell_type": "markdown",
   "metadata": {
    "cell_id": "00040-04ac4913-4888-4110-8fdb-0d4d9662f1ba",
    "deepnote_cell_type": "markdown",
    "tags": []
   },
   "source": [
    "## What about the C-Style For Loop?\n",
    "\n",
    "There is another approach to for-loops: calculating only the index of each loop and using it inside the body.  For example:\n",
    "\n",
    "```python\n",
    "seqs = ['AT', 'GC', 'CA']\n",
    "for idx in [0, 1, 2]:\n",
    "    seq = seqs[idx]\n",
    "    print(seq)  # prints 'AT'\n",
    "```\n",
    ".\n",
    "\n",
    "Python's `range()` function can automatically calculate the sequence of integers from 0 to any value.  As a result, the `range()` function is great for telling Python *how many times* you want to repeat a loop:\n",
    "\n",
    "```python\n",
    "seqs = ['AT', 'GC', 'CA']\n",
    "for idx in range(3):\n",
    "    seq = seqs[idx]\n",
    "    print(seq)  # prints 'AT'\n",
    "```\n",
    ".\n",
    "\n",
    "Instead of hard-coding the length of the range (e.g. `range(3)`), passing the length of the sequence automatically finds the write range (e.g. `range(len(seqs))`)\n",
    "\n",
    "When complete, this pattern looks like:\n",
    "\n",
    "```python\n",
    "seqs = ['AT', 'GC', 'CA']\n",
    "for idx in range(len(seqs)):\n",
    "    seq = seqs[idx]\n",
    "    print(seq)  # prints 'AT'\n",
    "```\n",
    ".\n",
    "\n",
    "let's get some practice using the `range()` function!"
   ]
  },
  {
   "cell_type": "markdown",
   "metadata": {
    "cell_id": "00041-5c8da68d-64bf-493f-91c7-8d64c4dd94c8",
    "deepnote_cell_type": "markdown",
    "tags": []
   },
   "source": [
    "**Exercises**:  using the `range()` function, write code that does the following tasks:"
   ]
  },
  {
   "cell_type": "markdown",
   "metadata": {
    "cell_id": "00042-c8101e7f-e9da-4fa7-9515-e211ce4b24fc",
    "deepnote_cell_type": "markdown",
    "tags": []
   },
   "source": [
    "Print 'Hello World!' 5 times"
   ]
  },
  {
   "cell_type": "code",
   "execution_count": null,
   "metadata": {
    "cell_id": "00043-c2d0542d-2686-4f0f-b361-e9fc124adc9d",
    "deepnote_cell_type": "code",
    "tags": []
   },
   "outputs": [],
   "source": []
  },
  {
   "cell_type": "markdown",
   "metadata": {
    "cell_id": "00044-2a6be69e-f6b8-440c-a877-90731f2a57a3",
    "deepnote_cell_type": "markdown",
    "tags": []
   },
   "source": [
    "Print the first letter of each name in the list"
   ]
  },
  {
   "cell_type": "code",
   "execution_count": null,
   "metadata": {
    "cell_id": "00045-813c34f4-4071-45c5-80d7-bf2f9e973cef",
    "deepnote_cell_type": "code",
    "tags": []
   },
   "outputs": [],
   "source": [
    "names = [\"John\", \"Harry\", \"Moe\", \"Luke\"]"
   ]
  },
  {
   "cell_type": "markdown",
   "metadata": {
    "cell_id": "00046-298595b7-4e93-4107-aae9-3da759d978e6",
    "deepnote_cell_type": "markdown",
    "tags": []
   },
   "source": [
    "Print the patient number and treatment group of each patient (e.g. \"Patient 32341: control\")"
   ]
  },
  {
   "cell_type": "code",
   "execution_count": null,
   "metadata": {
    "cell_id": "00047-dbf27950-fb24-46f4-aa8e-34e45a374a5c",
    "deepnote_cell_type": "code",
    "tags": []
   },
   "outputs": [],
   "source": [
    "patients = [32451, 435679, 4211235, 123121]\n",
    "groups = ['control', 'treatment', 'treatment', 'control']"
   ]
  },
  {
   "cell_type": "markdown",
   "metadata": {
    "cell_id": "00048-e34e2b5a-fa49-4564-9fa4-cebe7b44fa0f",
    "deepnote_cell_type": "markdown",
    "tags": []
   },
   "source": [
    "Make a dictionary with  the patient number and treatment group of each patient (e.g. `{32341: \"control\"}`)"
   ]
  },
  {
   "cell_type": "code",
   "execution_count": null,
   "metadata": {
    "cell_id": "00049-66361780-2af2-42ec-ad14-0e21a9324564",
    "deepnote_cell_type": "code",
    "tags": []
   },
   "outputs": [],
   "source": [
    "patients = [32451, 435679, 4211235, 123121]\n",
    "groups = ['control', 'treatment', 'treatment', 'control']"
   ]
  },
  {
   "cell_type": "markdown",
   "metadata": {
    "cell_id": "00046-ccc3ad9b-ef04-4814-b9c6-43927561ed5e",
    "deepnote_cell_type": "markdown",
    "tags": []
   },
   "source": [
    "### Extra Exercises: Writing to Files in Loops\n",
    "\n",
    "The exercises below use for-loops while introducing the pathlib.Path type"
   ]
  },
  {
   "cell_type": "markdown",
   "metadata": {
    "cell_id": "00047-a456b992-3cc8-4796-b30c-b89ba70a0345",
    "deepnote_cell_type": "markdown",
    "tags": []
   },
   "source": [
    "Print the file extension of each file in the list\n",
    "\n",
    "*Hint*: the pathlib.Path class is useful for this:\n",
    "\n",
    "```python\n",
    "from pathlib import Path\n",
    "filename = 'hello.csv'\n",
    "filepath = Path(filename)\n",
    "extension = filepath.suffix  # '.csv'\n",
    "```"
   ]
  },
  {
   "cell_type": "code",
   "execution_count": 4,
   "metadata": {
    "cell_id": "00046-a69b2083-c3ae-4984-9e47-425537382063",
    "deepnote_cell_type": "code",
    "deepnote_to_be_reexecuted": false,
    "execution_millis": 0,
    "execution_start": 1637738418985,
    "source_hash": "3d6fe8ac",
    "tags": []
   },
   "outputs": [],
   "source": [
    "filenames = ['virus.fasta', 'birthday.jpg', 'hospital.csv', 'letter.pdf']"
   ]
  },
  {
   "cell_type": "markdown",
   "metadata": {
    "cell_id": "00047-e698deb0-78b8-420e-bfe2-8eeeee69953c",
    "deepnote_cell_type": "markdown",
    "tags": []
   },
   "source": [
    "Write each sequence to its corresponding file\n",
    "\n",
    "```python\n",
    "from pathlib import Path\n",
    "filepath = Path('hello.txt')\n",
    "text = 'Hi!'\n",
    "filepath.write_text(text)\n",
    "```"
   ]
  },
  {
   "cell_type": "code",
   "execution_count": null,
   "metadata": {
    "cell_id": "00048-a422118e-a417-4210-9bc9-596c276a41ca",
    "deepnote_cell_type": "code",
    "tags": []
   },
   "outputs": [],
   "source": [
    "dataset = [\n",
    "    ('seq1.txt', 'GACCAGTA'),\n",
    "    ('seqA.txt', 'GGAGAGTATAC'),\n",
    "    ('myseq.txt', 'GTTTAAC'),\n",
    "]"
   ]
  },
  {
   "cell_type": "markdown",
   "metadata": {
    "cell_id": "00048-34e107ab-47da-4733-abc6-0b4a80e98d78",
    "deepnote_cell_type": "markdown",
    "tags": []
   },
   "source": [
    "Write these sequences to filenames named after their corresponding animal id (e.g. `324` becomes `'324.txt'`)"
   ]
  },
  {
   "cell_type": "code",
   "execution_count": 7,
   "metadata": {
    "cell_id": "00049-49e3d752-d8b4-4414-885c-4f039064b27f",
    "deepnote_cell_type": "code",
    "deepnote_to_be_reexecuted": false,
    "execution_millis": 0,
    "execution_start": 1637739054417,
    "source_hash": "eb5354cd",
    "tags": []
   },
   "outputs": [],
   "source": [
    "animals = [123, 342, 543, 654]\n",
    "seqs = ['GADCAG', 'CADFAAD', 'GGGGCVAGDA', 'GGDADCA']"
   ]
  },
  {
   "cell_type": "markdown",
   "metadata": {
    "cell_id": "00049-fe3942bc-280f-4120-9fb5-2da8f8331727",
    "deepnote_cell_type": "markdown",
    "tags": []
   },
   "source": [
    "Write all the sequences of each animal to filenames named after their corresponding animal id (e.g. 324 becomes '324.txt')"
   ]
  },
  {
   "cell_type": "code",
   "execution_count": 8,
   "metadata": {
    "cell_id": "00049-718ed79b-06e1-419d-a3d1-c3224718fcb1",
    "deepnote_cell_type": "code",
    "deepnote_to_be_reexecuted": false,
    "execution_millis": 4,
    "execution_start": 1637739091840,
    "source_hash": "eea73373",
    "tags": []
   },
   "outputs": [],
   "source": [
    "animals = [123, 342, 543, 654]\n",
    "seqs = [\n",
    "    ('GACAG', 'GCCAGT'), \n",
    "    ('CAAA', 'GGGGCAGA', 'GGACA'),\n",
    "    ('GGGATATCA', 'CCACAGATA', 'GGACAAATA'),\n",
    "    ('GCCATATA', 'CAACTTTATA'),\n",
    "]"
   ]
  },
  {
   "cell_type": "code",
   "execution_count": null,
   "metadata": {
    "cell_id": "00049-0a8d6ab4-fa78-41f1-99db-cfcc22f7396d",
    "deepnote_cell_type": "code",
    "tags": []
   },
   "outputs": [],
   "source": []
  },
  {
   "cell_type": "markdown",
   "metadata": {
    "created_in_deepnote_cell": true,
    "deepnote_cell_type": "markdown",
    "tags": []
   },
   "source": [
    "<a style='text-decoration:none;line-height:16px;display:flex;color:#5B5B62;padding:10px;justify-content:end;' href='https://deepnote.com?utm_source=created-in-deepnote-cell&projectId=286cad4e-3049-4040-b8ae-ac30773a7605' target=\"_blank\">\n",
    "<img alt='Created in deepnote.com' style='display:inline;max-height:16px;margin:0px;margin-right:7.5px;' src='data:image/svg+xml;base64,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' > </img>\n",
    "Created in <span style='font-weight:600;margin-left:4px;'>Deepnote</span></a>"
   ]
  }
 ],
 "metadata": {
  "deepnote": {
   "is_reactive": false
  },
  "deepnote_execution_queue": [],
  "deepnote_notebook_id": "ef49a35c-a30b-456b-a05a-67ff89abc6a7",
  "kernelspec": {
   "display_name": "Python 3",
   "language": "python",
   "name": "python3"
  },
  "language_info": {
   "codemirror_mode": {
    "name": "ipython",
    "version": 3
   },
   "file_extension": ".py",
   "mimetype": "text/x-python",
   "name": "python",
   "nbconvert_exporter": "python",
   "pygments_lexer": "ipython3",
   "version": "3.8.8"
  }
 },
 "nbformat": 4,
 "nbformat_minor": 4
}
